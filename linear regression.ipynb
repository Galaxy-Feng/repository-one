{
  "nbformat": 4,
  "nbformat_minor": 0,
  "metadata": {
    "colab": {
      "provenance": [],
      "gpuType": "T4",
      "authorship_tag": "ABX9TyMyA1H5y3KpPvSFtqSPli2e",
      "include_colab_link": true
    },
    "kernelspec": {
      "name": "python3",
      "display_name": "Python 3"
    },
    "language_info": {
      "name": "python"
    },
    "accelerator": "GPU"
  },
  "cells": [
    {
      "cell_type": "markdown",
      "metadata": {
        "id": "view-in-github",
        "colab_type": "text"
      },
      "source": [
        "<a href=\"https://colab.research.google.com/github/Galaxy-Feng/repository-one/blob/main/linear%20regression.ipynb\" target=\"_parent\"><img src=\"https://colab.research.google.com/assets/colab-badge.svg\" alt=\"Open In Colab\"/></a>"
      ]
    },
    {
      "cell_type": "code",
      "source": [
        "import random\n",
        "import torch\n",
        "def synthetic_data(w, b, num_examples):\n",
        "    X = torch.normal(0, 1, (num_examples, len(w)))\n",
        "    y = torch.matmul(X, w) + b\n",
        "    y += torch.normal(0, 0.01, y.shape)\n",
        "    return X, y.reshape((-1, 1))\n",
        "true_w = torch.tensor([2, -3.4])\n",
        "true_b = 4.2\n",
        "features, labels = synthetic_data(true_w, true_b, 1000)\n",
        "def data_iter(batch_size, features, labels):\n",
        "    num_examples = len(features)\n",
        "    indices = list(range(num_examples))\n",
        "    random.shuffle(indices)\n",
        "    for i in range(0, num_examples, batch_size):\n",
        "        batch_indices = torch.tensor(\n",
        "            indices[i: min(i + batch_size, num_examples)])\n",
        "        yield features[batch_indices], labels[batch_indices]\n",
        "w = torch.normal(0, 0.01, size=(2,1), requires_grad=True)\n",
        "b = torch.zeros(1, requires_grad=True)\n",
        "def linreg(X, w, b):\n",
        "    return torch.matmul(X, w) + b\n",
        "def squared_loss(y_hat, y):\n",
        "    return (y_hat - y.reshape(y_hat.shape)) ** 2 / 2\n",
        "def sgd(params, lr, batch_size):\n",
        "    with torch.no_grad():\n",
        "        for param in params:\n",
        "            param -= lr * param.grad / batch_size\n",
        "            param.grad.zero_()\n",
        "lr = 0.03\n",
        "batch_size = 10\n",
        "num_epochs = 3\n",
        "net = linreg\n",
        "loss = squared_loss\n",
        "for epoch in range(num_epochs):\n",
        "    for X, y in data_iter(batch_size, features, labels):\n",
        "        l = loss(net(X, w, b), y)\n",
        "        l.sum().backward()\n",
        "        sgd([w, b], lr, batch_size)\n",
        "    with torch.no_grad():\n",
        "        train_l = loss(net(features, w, b), labels)\n",
        "        print(f'epoch {epoch + 1}, loss {float(train_l.mean()):f}')"
      ],
      "metadata": {
        "colab": {
          "base_uri": "https://localhost:8080/"
        },
        "id": "GpoCJWD3dFAc",
        "outputId": "00d467e5-7e56-4d62-ddd6-1f43f3c981aa"
      },
      "execution_count": 5,
      "outputs": [
        {
          "output_type": "stream",
          "name": "stdout",
          "text": [
            "epoch 1, loss 0.030626\n",
            "epoch 2, loss 0.000114\n",
            "epoch 3, loss 0.000055\n"
          ]
        }
      ]
    },
    {
      "cell_type": "code",
      "source": [
        "import numpy as np\n",
        "import torch\n",
        "from torch.utils import data\n",
        "def synthetic_data(w, b, num_examples):\n",
        "    X = torch.normal(0, 1, (num_examples, len(w)))\n",
        "    y = torch.matmul(X, w) + b\n",
        "    y += torch.normal(0, 0.01, y.shape)\n",
        "    return X, y.reshape((-1, 1))\n",
        "true_w = torch.tensor([2, -3.4])\n",
        "true_b = 4.2\n",
        "features, labels = synthetic_data(true_w, true_b, 1000)\n",
        "def load_array(data_arrays, batch_size, is_train=True):\n",
        "    dataset = data.TensorDataset(*data_arrays)\n",
        "    return data.DataLoader(dataset, batch_size, shuffle=is_train)\n",
        "data_iter = load_array((features, labels), batch_size)\n",
        "next(iter(data_iter))\n",
        "from torch import nn\n",
        "net = nn.Sequential(nn.Linear(2, 1))\n",
        "net[0].weight.data.normal_(0, 0.01)\n",
        "net[0].bias.data.fill_(0)\n",
        "loss = nn.MSELoss()\n",
        "trainer = torch.optim.SGD(net.parameters(), lr=0.03)\n",
        "batch_size = 10\n",
        "num_epochs = 3\n",
        "for epoch in range(num_epochs):\n",
        "    for X, y in data_iter:\n",
        "        l = loss(net(X) ,y)\n",
        "        trainer.zero_grad()\n",
        "        l.backward()\n",
        "        trainer.step()\n",
        "    l = loss(net(features), labels)\n",
        "    print(f'epoch {epoch + 1}, loss {l:f}')"
      ],
      "metadata": {
        "colab": {
          "base_uri": "https://localhost:8080/"
        },
        "id": "OKFYJQXIiU2k",
        "outputId": "b8c79681-bc62-426b-ca2a-a396b9c5b73e"
      },
      "execution_count": 24,
      "outputs": [
        {
          "output_type": "stream",
          "name": "stdout",
          "text": [
            "epoch 1, loss 0.000393\n",
            "epoch 2, loss 0.000102\n",
            "epoch 3, loss 0.000101\n"
          ]
        }
      ]
    }
  ]
}