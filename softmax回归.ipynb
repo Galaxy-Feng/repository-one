{
  "nbformat": 4,
  "nbformat_minor": 0,
  "metadata": {
    "colab": {
      "provenance": [],
      "gpuType": "T4",
      "authorship_tag": "ABX9TyPAmYZpu+gfvPAD7+DefV/f",
      "include_colab_link": true
    },
    "kernelspec": {
      "name": "python3",
      "display_name": "Python 3"
    },
    "language_info": {
      "name": "python"
    },
    "accelerator": "GPU"
  },
  "cells": [
    {
      "cell_type": "markdown",
      "metadata": {
        "id": "view-in-github",
        "colab_type": "text"
      },
      "source": [
        "<a href=\"https://colab.research.google.com/github/Galaxy-Feng/repository-one/blob/main/softmax%E5%9B%9E%E5%BD%92.ipynb\" target=\"_parent\"><img src=\"https://colab.research.google.com/assets/colab-badge.svg\" alt=\"Open In Colab\"/></a>"
      ]
    },
    {
      "cell_type": "markdown",
      "source": [
        "# 新段落"
      ],
      "metadata": {
        "id": "lQaU2K6wXkoq"
      }
    },
    {
      "cell_type": "code",
      "source": [
        "import torch\n",
        "from torch import nn\n",
        "import tensorflow as tf\n",
        "import numpy as np\n",
        "\n",
        "fashion_mnist = tf.keras.datasets.fashion_mnist\n",
        "(trainImages, trainLabels), (testImages, testLabels) = fashion_mnist.load_data()\n",
        "\n",
        "trainImages = torch.tensor(trainImages, dtype=torch.float32).div(255)\n",
        "trainLabels = torch.tensor(trainLabels, dtype=torch.long)\n",
        "testImages = torch.tensor(testImages, dtype=torch.float32).div(255)\n",
        "testLabels = torch.tensor(testLabels, dtype=torch.long)\n",
        "\n",
        "batch_size = 256\n",
        "train_dataset = torch.utils.data.TensorDataset(trainImages, trainLabels)\n",
        "test_dataset = torch.utils.data.TensorDataset(testImages, testLabels)\n",
        "train_iter = torch.utils.data.DataLoader(train_dataset, batch_size=batch_size, shuffle=True)\n",
        "test_iter = torch.utils.data.DataLoader(test_dataset, batch_size=batch_size, shuffle=False)\n",
        "\n",
        "net = nn.Sequential(nn.Flatten(), nn.Linear(784, 10))\n",
        "\n",
        "def init_weights(m):\n",
        "    if type(m) == nn.Linear:\n",
        "        nn.init.normal_(m.weight, std=0.01)\n",
        "net.apply(init_weights)\n",
        "\n",
        "loss = nn.CrossEntropyLoss(reduction='none')\n",
        "\n",
        "trainer = torch.optim.SGD(net.parameters(), lr=0.1)\n",
        "\n",
        "class Accumulator:\n",
        "    def __init__(self, n):\n",
        "        self.data = [0.0] * n\n",
        "\n",
        "    def add(self, *args):\n",
        "        self.data = [a + float(b) for a, b in zip(self.data, args)]\n",
        "\n",
        "    def reset(self):\n",
        "        self.data = [0.0] * len(self.data)\n",
        "\n",
        "    def __getitem__(self, idx):\n",
        "        return self.data[idx]\n",
        "\n",
        "def train_epoch_ch3(net, train_iter, loss, updater):\n",
        "    if isinstance(net, torch.nn.Module):\n",
        "        net.train()\n",
        "    metric = Accumulator(3)\n",
        "    for X, y in train_iter:\n",
        "        y_hat = net(X)\n",
        "        l = loss(y_hat, y)\n",
        "        if isinstance(trainer, torch.optim.Optimizer):\n",
        "            updater.zero_grad()\n",
        "            l.mean().backward()\n",
        "            updater.step()\n",
        "        else:\n",
        "            l.sum().backward()\n",
        "            updater(X.shape[0])\n",
        "        metric.add(float(l.sum()), accuracy(y_hat, y), y.numel())\n",
        "    return metric[0] / metric[2], metric[1] / metric[2]\n",
        "\n",
        "def evaluate_accuracy(net, data_iter):\n",
        "    if isinstance(net, torch.nn.Module):\n",
        "        net.eval()\n",
        "    metric = Accumulator(2)\n",
        "    with torch.no_grad():\n",
        "        for X, y in data_iter:\n",
        "            metric.add(accuracy(net(X), y), y.size(0))\n",
        "    return metric[0] / metric[1]\n",
        "\n",
        "def accuracy(y_hat, y):\n",
        "    if len(y_hat.shape) > 1 and y_hat.shape[1] > 1:\n",
        "        y_hat = y_hat.argmax(axis=1)\n",
        "    cmp = y_hat.type(y.dtype) == y\n",
        "    return float(cmp.type(y.dtype).sum())\n",
        "\n",
        "def train_ch3(net, train_iter, test_iter, loss, num_epochs, updater):\n",
        "    for epoch in range(num_epochs):\n",
        "        train_metrics = train_epoch_ch3(net, train_iter, loss, updater)\n",
        "        test_acc = evaluate_accuracy(net, test_iter)\n",
        "        print(f'Epoch {epoch + 1}, Train Loss: {train_metrics[0]:.4f}, Train Acc: {train_metrics[1]:.4f}, Test Acc: {test_acc:.4f}')\n",
        "\n",
        "num_epochs = 10\n",
        "train_ch3(net, train_iter, test_iter, loss, num_epochs, trainer)"
      ],
      "metadata": {
        "colab": {
          "base_uri": "https://localhost:8080/"
        },
        "id": "D-ITPRA2X8dk",
        "outputId": "c8e12a0e-b442-4c05-f921-524729b325dc"
      },
      "execution_count": 8,
      "outputs": [
        {
          "output_type": "stream",
          "name": "stdout",
          "text": [
            "Epoch 1, Train Loss: 0.7860, Train Acc: 0.7499, Test Acc: 0.7757\n",
            "Epoch 2, Train Loss: 0.5718, Train Acc: 0.8124, Test Acc: 0.7931\n",
            "Epoch 3, Train Loss: 0.5262, Train Acc: 0.8251, Test Acc: 0.8012\n",
            "Epoch 4, Train Loss: 0.5015, Train Acc: 0.8313, Test Acc: 0.8169\n",
            "Epoch 5, Train Loss: 0.4850, Train Acc: 0.8365, Test Acc: 0.8234\n",
            "Epoch 6, Train Loss: 0.4735, Train Acc: 0.8394, Test Acc: 0.8229\n",
            "Epoch 7, Train Loss: 0.4652, Train Acc: 0.8424, Test Acc: 0.8209\n",
            "Epoch 8, Train Loss: 0.4577, Train Acc: 0.8452, Test Acc: 0.8300\n",
            "Epoch 9, Train Loss: 0.4520, Train Acc: 0.8471, Test Acc: 0.8287\n",
            "Epoch 10, Train Loss: 0.4472, Train Acc: 0.8480, Test Acc: 0.8352\n"
          ]
        }
      ]
    }
  ]
}